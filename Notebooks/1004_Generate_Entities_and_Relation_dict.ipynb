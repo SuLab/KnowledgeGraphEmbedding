{
 "cells": [
  {
   "cell_type": "markdown",
   "id": "eab15a54-ec08-4afa-a0c3-0b7bd026b89a",
   "metadata": {},
   "source": [
    "# Make entities and relations.dict files for MIND, MIND_CtD and MIND_CiD"
   ]
  },
  {
   "cell_type": "code",
   "execution_count": 1,
   "id": "79733f9e-82ba-4531-9745-3299fd39b6fc",
   "metadata": {},
   "outputs": [],
   "source": [
    "import pandas as pd\n",
    "import os\n",
    "import random"
   ]
  },
  {
   "cell_type": "markdown",
   "id": "abdf316f-238e-4702-a50c-03976957cc31",
   "metadata": {},
   "source": [
    "## Entities and Relations dict file for MIND"
   ]
  },
  {
   "cell_type": "code",
   "execution_count": 3,
   "id": "c7c0904e-d31e-4d6b-9725-ab9711c72561",
   "metadata": {},
   "outputs": [],
   "source": [
    "graph = pd.read_csv(\n",
    "    \"../../KnowledgeGraphEmbedding00/data/MIND/graph.txt\",\n",
    "    sep=\"\\t\",\n",
    "    names=[\"h\", \"r\", \"t\"],\n",
    ")\n",
    "train = pd.read_csv(\n",
    "    \"../../KnowledgeGraphEmbedding00/data/MIND/train.txt\",\n",
    "    sep=\"\\t\",\n",
    "    names=[\"h\", \"r\", \"t\"],\n",
    ")\n",
    "test = pd.read_csv(\n",
    "    \"../../KnowledgeGraphEmbedding00/data/MIND/test.txt\",\n",
    "    sep=\"\\t\",\n",
    "    names=[\"h\", \"r\", \"t\"],\n",
    ")\n",
    "valid = pd.read_csv(\n",
    "    \"../../KnowledgeGraphEmbedding00/data/MIND/valid.txt\", sep=\"\\t\", names=[\"h\", \"r\", \"t\"]\n",
    ")"
   ]
  },
  {
   "cell_type": "code",
   "execution_count": 4,
   "id": "372bf25f-9674-4bd8-ac07-5b88ad80b127",
   "metadata": {},
   "outputs": [],
   "source": [
    "all_graph = pd.concat([graph, train, test, valid])\n",
    "all_graph = all_graph.drop_duplicates()"
   ]
  },
  {
   "cell_type": "code",
   "execution_count": 5,
   "id": "29e3ebfc-8376-4170-89d5-87767fb52ebe",
   "metadata": {},
   "outputs": [
    {
     "data": {
      "text/html": [
       "<div>\n",
       "<style scoped>\n",
       "    .dataframe tbody tr th:only-of-type {\n",
       "        vertical-align: middle;\n",
       "    }\n",
       "\n",
       "    .dataframe tbody tr th {\n",
       "        vertical-align: top;\n",
       "    }\n",
       "\n",
       "    .dataframe thead th {\n",
       "        text-align: right;\n",
       "    }\n",
       "</style>\n",
       "<table border=\"1\" class=\"dataframe\">\n",
       "  <thead>\n",
       "    <tr style=\"text-align: right;\">\n",
       "      <th></th>\n",
       "      <th>h</th>\n",
       "      <th>r</th>\n",
       "      <th>t</th>\n",
       "    </tr>\n",
       "  </thead>\n",
       "  <tbody>\n",
       "    <tr>\n",
       "      <th>0</th>\n",
       "      <td>UNII:BTY153760O</td>\n",
       "      <td>inhibits_CinG</td>\n",
       "      <td>NCBIGene:3605</td>\n",
       "    </tr>\n",
       "    <tr>\n",
       "      <th>1</th>\n",
       "      <td>CHEBI:10056</td>\n",
       "      <td>activates_CaG</td>\n",
       "      <td>NCBIGene:1129</td>\n",
       "    </tr>\n",
       "    <tr>\n",
       "      <th>2</th>\n",
       "      <td>CHEBI:10056</td>\n",
       "      <td>activates_CaG</td>\n",
       "      <td>NCBIGene:1131</td>\n",
       "    </tr>\n",
       "    <tr>\n",
       "      <th>3</th>\n",
       "      <td>CHEBI:10056</td>\n",
       "      <td>activates_CaG</td>\n",
       "      <td>NCBIGene:1133</td>\n",
       "    </tr>\n",
       "    <tr>\n",
       "      <th>4</th>\n",
       "      <td>CHEBI:10056</td>\n",
       "      <td>activates_CaG</td>\n",
       "      <td>NCBIGene:3350</td>\n",
       "    </tr>\n",
       "  </tbody>\n",
       "</table>\n",
       "</div>"
      ],
      "text/plain": [
       "                 h              r              t\n",
       "0  UNII:BTY153760O  inhibits_CinG  NCBIGene:3605\n",
       "1      CHEBI:10056  activates_CaG  NCBIGene:1129\n",
       "2      CHEBI:10056  activates_CaG  NCBIGene:1131\n",
       "3      CHEBI:10056  activates_CaG  NCBIGene:1133\n",
       "4      CHEBI:10056  activates_CaG  NCBIGene:3350"
      ]
     },
     "execution_count": 5,
     "metadata": {},
     "output_type": "execute_result"
    }
   ],
   "source": [
    "all_graph.head()"
   ]
  },
  {
   "cell_type": "code",
   "execution_count": 6,
   "id": "2af618bc-d638-4c33-b07c-22d8bb3a7528",
   "metadata": {},
   "outputs": [],
   "source": [
    "all_graph_nodes = list(set(all_graph.h) | set(all_graph.t))\n",
    "all_graph_relations = list(set(all_graph.r))"
   ]
  },
  {
   "cell_type": "markdown",
   "id": "6026f8d5-8f17-4de2-8604-15754f99c4ff",
   "metadata": {},
   "source": [
    "#### Order of file should be...\n",
    "number \\t id"
   ]
  },
  {
   "cell_type": "code",
   "execution_count": 7,
   "id": "5229638f-5db5-4e8d-9937-9f3727e3e59e",
   "metadata": {},
   "outputs": [],
   "source": [
    "node_num = random.sample(range(len(all_graph_nodes)), len(all_graph_nodes))\n",
    "rel_num = random.sample(range(len(all_graph_relations)), len(all_graph_relations))"
   ]
  },
  {
   "cell_type": "code",
   "execution_count": 8,
   "id": "ca9008bd-6961-4016-9733-202730eef3c3",
   "metadata": {},
   "outputs": [],
   "source": [
    "pd.DataFrame({\"node_num\": node_num, \"nodes\": all_graph_nodes}).to_csv(\n",
    "    \"../../KnowledgeGraphEmbedding00/data/MIND/entities.dict\",\n",
    "    sep=\"\\t\",\n",
    "    header=False,\n",
    "    index=False,\n",
    ")"
   ]
  },
  {
   "cell_type": "code",
   "execution_count": 9,
   "id": "e26a61da-4cd8-4514-9930-6e79360863f0",
   "metadata": {},
   "outputs": [],
   "source": [
    "pd.DataFrame({\"rel_num\": rel_num, \"rel\": all_graph_relations}).to_csv(\n",
    "    \"../../KnowledgeGraphEmbedding00/data/MIND/relations.dict\",\n",
    "    sep=\"\\t\",\n",
    "    header=False,\n",
    "    index=False,\n",
    ")"
   ]
  },
  {
   "cell_type": "markdown",
   "id": "050c4c3a-8b07-4f0b-ab8c-68957bd24c6f",
   "metadata": {},
   "source": [
    "## MIND_CtD Entities and Relations dict generation"
   ]
  },
  {
   "cell_type": "code",
   "execution_count": 10,
   "id": "468dbd5c-2603-4b7f-9c11-5b74f9376611",
   "metadata": {},
   "outputs": [],
   "source": [
    "graph = pd.read_csv(\n",
    "    \"../../KnowledgeGraphEmbedding00/data/MIND_CtD/graph.txt\",\n",
    "    sep=\"\\t\",\n",
    "    names=[\"h\", \"r\", \"t\"],\n",
    ")\n",
    "train = pd.read_csv(\n",
    "    \"../../KnowledgeGraphEmbedding00/data/MIND_CtD/train.txt\",\n",
    "    sep=\"\\t\",\n",
    "    names=[\"h\", \"r\", \"t\"],\n",
    ")\n",
    "test = pd.read_csv(\n",
    "    \"../../KnowledgeGraphEmbedding00/data/MIND_CtD/test.txt\",\n",
    "    sep=\"\\t\",\n",
    "    names=[\"h\", \"r\", \"t\"],\n",
    ")\n",
    "valid = pd.read_csv(\n",
    "    \"../../KnowledgeGraphEmbedding00/data/MIND_CtD/valid.txt\", sep=\"\\t\", names=[\"h\", \"r\", \"t\"]\n",
    ")"
   ]
  },
  {
   "cell_type": "code",
   "execution_count": 11,
   "id": "bb347222-0669-4ccc-aa64-02c6f4066b36",
   "metadata": {},
   "outputs": [],
   "source": [
    "all_graph = pd.concat([graph, train, test, valid])\n",
    "all_graph = all_graph.drop_duplicates()\n",
    "\n",
    "all_graph_nodes = list(set(all_graph.h) | set(all_graph.t))\n",
    "all_graph_relations = list(set(all_graph.r))\n",
    "\n",
    "node_num = random.sample(range(len(all_graph_nodes)), len(all_graph_nodes))\n",
    "rel_num = random.sample(range(len(all_graph_relations)), len(all_graph_relations))"
   ]
  },
  {
   "cell_type": "code",
   "execution_count": 12,
   "id": "7d3e3e13-d604-48a4-8331-6973ad85a2e3",
   "metadata": {},
   "outputs": [],
   "source": [
    "# Entities\n",
    "pd.DataFrame({\"node_num\": node_num, \"nodes\": all_graph_nodes}).to_csv(\n",
    "    \"../../KnowledgeGraphEmbedding00/data/MIND_CtD/entities.dict\",\n",
    "    sep=\"\\t\",\n",
    "    header=False,\n",
    "    index=False,\n",
    ")"
   ]
  },
  {
   "cell_type": "code",
   "execution_count": 13,
   "id": "1ed0f75c-4387-4e02-8f6c-6c547b302b43",
   "metadata": {},
   "outputs": [],
   "source": [
    "# Relations\n",
    "pd.DataFrame({\"rel_num\": rel_num, \"rel\": all_graph_relations}).to_csv(\n",
    "    \"../../KnowledgeGraphEmbedding00/data/MIND_CtD/relations.dict\",\n",
    "    sep=\"\\t\",\n",
    "    header=False,\n",
    "    index=False,\n",
    ")"
   ]
  },
  {
   "cell_type": "markdown",
   "id": "0a545f4f-2680-4b4d-a354-a85b6cff1182",
   "metadata": {},
   "source": [
    "## MIND_CiD Entities and Relations dict generation"
   ]
  },
  {
   "cell_type": "code",
   "execution_count": 14,
   "id": "2ea6c71c-726b-4fda-86f2-5ce9a74a709d",
   "metadata": {},
   "outputs": [],
   "source": [
    "graph = pd.read_csv(\n",
    "    \"../../KnowledgeGraphEmbedding00/data/MIND_CiD/graph.txt\",\n",
    "    sep=\"\\t\",\n",
    "    names=[\"h\", \"r\", \"t\"],\n",
    ")\n",
    "train = pd.read_csv(\n",
    "    \"../../KnowledgeGraphEmbedding00/data/MIND_CiD/train.txt\",\n",
    "    sep=\"\\t\",\n",
    "    names=[\"h\", \"r\", \"t\"],\n",
    ")\n",
    "test = pd.read_csv(\n",
    "    \"../../KnowledgeGraphEmbedding00/data/MIND_CiD/test.txt\",\n",
    "    sep=\"\\t\",\n",
    "    names=[\"h\", \"r\", \"t\"],\n",
    ")\n",
    "valid = pd.read_csv(\n",
    "    \"../../KnowledgeGraphEmbedding00/data/MIND_CiD/valid.txt\", sep=\"\\t\", names=[\"h\", \"r\", \"t\"]\n",
    ")"
   ]
  },
  {
   "cell_type": "code",
   "execution_count": 15,
   "id": "dc1b1d59-aa1d-43a7-9db7-0f3b9fe3c1a7",
   "metadata": {},
   "outputs": [],
   "source": [
    "all_graph = pd.concat([graph, train, test, valid])\n",
    "all_graph = all_graph.drop_duplicates()\n",
    "\n",
    "all_graph_nodes = list(set(all_graph.h) | set(all_graph.t))\n",
    "all_graph_relations = list(set(all_graph.r))\n",
    "\n",
    "node_num = random.sample(range(len(all_graph_nodes)), len(all_graph_nodes))\n",
    "rel_num = random.sample(range(len(all_graph_relations)), len(all_graph_relations))"
   ]
  },
  {
   "cell_type": "code",
   "execution_count": 16,
   "id": "503df052-c5f1-4b49-a3db-61774031879b",
   "metadata": {},
   "outputs": [],
   "source": [
    "# Entities\n",
    "pd.DataFrame({\"node_num\": node_num, \"nodes\": all_graph_nodes}).to_csv(\n",
    "    \"../../KnowledgeGraphEmbedding00/data/MIND_CiD/entities.dict\",\n",
    "    sep=\"\\t\",\n",
    "    header=False,\n",
    "    index=False,\n",
    ")"
   ]
  },
  {
   "cell_type": "code",
   "execution_count": 17,
   "id": "5f8687d0-4ed6-46fa-8d19-78493d075dba",
   "metadata": {},
   "outputs": [],
   "source": [
    "# Relations\n",
    "pd.DataFrame({\"rel_num\": rel_num, \"rel\": all_graph_relations}).to_csv(\n",
    "    \"../../KnowledgeGraphEmbedding00/data/MIND_CiD/relations.dict\",\n",
    "    sep=\"\\t\",\n",
    "    header=False,\n",
    "    index=False,\n",
    ")"
   ]
  },
  {
   "cell_type": "code",
   "execution_count": null,
   "id": "ed1f6dbc-f99c-4527-8914-607f4f381a21",
   "metadata": {},
   "outputs": [],
   "source": []
  }
 ],
 "metadata": {
  "kernelspec": {
   "display_name": "Python 3 (ipykernel)",
   "language": "python",
   "name": "python3"
  },
  "language_info": {
   "codemirror_mode": {
    "name": "ipython",
    "version": 3
   },
   "file_extension": ".py",
   "mimetype": "text/x-python",
   "name": "python",
   "nbconvert_exporter": "python",
   "pygments_lexer": "ipython3",
   "version": "3.10.4"
  }
 },
 "nbformat": 4,
 "nbformat_minor": 5
}
