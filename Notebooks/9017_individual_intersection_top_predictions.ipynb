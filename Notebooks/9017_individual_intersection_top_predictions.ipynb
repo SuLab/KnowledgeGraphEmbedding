{
 "cells": [
  {
   "cell_type": "code",
   "execution_count": 1,
   "id": "3e04bf3a-4ca4-4760-b3f5-76ff0d20d8b2",
   "metadata": {},
   "outputs": [],
   "source": [
    "import os\n",
    "import re\n",
    "import statistics\n",
    "import pickle\n",
    "import itertools\n",
    "import json\n",
    "from collections import defaultdict\n",
    "\n",
    "import scipy\n",
    "import pandas as pd\n",
    "import numpy as np\n",
    "import matplotlib.pyplot as plt\n",
    "import seaborn as sns\n",
    "import upsetplot\n",
    "from upsetplot import UpSet, from_contents\n",
    "from tqdm import tqdm\n",
    "\n",
    "import score_utils"
   ]
  },
  {
   "cell_type": "markdown",
   "id": "60dd12fb-49ad-4c16-8a7e-6c25d20131b9",
   "metadata": {},
   "source": [
    "# Get Intersection top non-indication prediction`\n",
    "* put them all together so we can curate the results"
   ]
  },
  {
   "cell_type": "markdown",
   "id": "32e6317f-836a-4540-84f5-3e7a7b081e30",
   "metadata": {},
   "source": [
    "## Import Data"
   ]
  },
  {
   "cell_type": "markdown",
   "id": "5fae445f-7a9e-42b2-aaba-da6ec3f843b8",
   "metadata": {},
   "source": [
    "### Import pCBR"
   ]
  },
  {
   "cell_type": "code",
   "execution_count": 2,
   "id": "51925c2e-8804-44a7-92df-f799ad7c56ef",
   "metadata": {},
   "outputs": [],
   "source": [
    "# Import probCBR res\n",
    "def json_to_df(json_dir: str) -> pd.DataFrame:\n",
    "    \"\"\"\n",
    "    Takes a string to a json object and turns it into a dataframe\n",
    "    \"\"\"\n",
    "    # import the json object\n",
    "    with open(json_dir, \"r\") as f:\n",
    "        json_obj = json.load(f)\n",
    "\n",
    "    # creates a dict with json keys as keys and values of emptylist based on the first json entry\n",
    "    json_key_dict = {i: [] for i in list(json_obj[0].keys())}\n",
    "    for i in json_obj:\n",
    "        for j in json_key_dict.keys():\n",
    "            # add j key in json item i to the list\n",
    "            to_add = json_key_dict[j]\n",
    "            to_add.append(i[j])\n",
    "            json_key_dict.update({j: to_add})\n",
    "\n",
    "    return pd.DataFrame(json_key_dict)"
   ]
  },
  {
   "cell_type": "code",
   "execution_count": 3,
   "id": "e1817468-8f1e-43d7-ad68-2a02feecd672",
   "metadata": {},
   "outputs": [
    {
     "data": {
      "text/html": [
       "<div>\n",
       "<style scoped>\n",
       "    .dataframe tbody tr th:only-of-type {\n",
       "        vertical-align: middle;\n",
       "    }\n",
       "\n",
       "    .dataframe tbody tr th {\n",
       "        vertical-align: top;\n",
       "    }\n",
       "\n",
       "    .dataframe thead th {\n",
       "        text-align: right;\n",
       "    }\n",
       "</style>\n",
       "<table border=\"1\" class=\"dataframe\">\n",
       "  <thead>\n",
       "    <tr style=\"text-align: right;\">\n",
       "      <th></th>\n",
       "      <th>e1</th>\n",
       "      <th>r</th>\n",
       "      <th>answers</th>\n",
       "      <th>predicted_answers</th>\n",
       "    </tr>\n",
       "  </thead>\n",
       "  <tbody>\n",
       "    <tr>\n",
       "      <th>0</th>\n",
       "      <td>CHEBI:135735</td>\n",
       "      <td>indication</td>\n",
       "      <td>[DOID:10763]</td>\n",
       "      <td>[DOID:6432, DOID:6000, DOID:10763, DOID:10591,...</td>\n",
       "    </tr>\n",
       "    <tr>\n",
       "      <th>1</th>\n",
       "      <td>DOID:10763</td>\n",
       "      <td>indication_inv</td>\n",
       "      <td>[CHEBI:135735, CHEBI:135738, CHEBI:141521, CHE...</td>\n",
       "      <td>[CHEBI:31548, CHEBI:46632, CHEBI:5784, CHEBI:5...</td>\n",
       "    </tr>\n",
       "  </tbody>\n",
       "</table>\n",
       "</div>"
      ],
      "text/plain": [
       "             e1               r  \\\n",
       "0  CHEBI:135735      indication   \n",
       "1    DOID:10763  indication_inv   \n",
       "\n",
       "                                             answers  \\\n",
       "0                                       [DOID:10763]   \n",
       "1  [CHEBI:135735, CHEBI:135738, CHEBI:141521, CHE...   \n",
       "\n",
       "                                   predicted_answers  \n",
       "0  [DOID:6432, DOID:6000, DOID:10763, DOID:10591,...  \n",
       "1  [CHEBI:31548, CHEBI:46632, CHEBI:5784, CHEBI:5...  "
      ]
     },
     "execution_count": 3,
     "metadata": {},
     "output_type": "execute_result"
    }
   ],
   "source": [
    "pcbr_df = json_to_df(\"/home/msinha/Open-BIo-Link/data1.json\")\n",
    "pcbr_df.head(2)"
   ]
  },
  {
   "cell_type": "code",
   "execution_count": 4,
   "id": "12ecf9f4-1d2c-41ca-95ea-14d8764c2111",
   "metadata": {},
   "outputs": [],
   "source": [
    "def process_dataframe(\n",
    "    df: pd.DataFrame,\n",
    "    data_dir: str,\n",
    "    model_dir: str,\n",
    "    mode: str = \"tail-batch\",\n",
    "    rel=[\n",
    "        \"indication\",\n",
    "        \"indication_CiD\",\n",
    "    ],\n",
    "):\n",
    "    \"\"\"\n",
    "    Gets True tail triples\n",
    "    \"\"\"\n",
    "\n",
    "    # get true head/tail triples from graph\n",
    "    raw = score_utils.ProcessOutput(\n",
    "        data_dir=data_dir,\n",
    "        scores_outfile=os.path.join(model_dir, \"test_scores.tsv\"),\n",
    "        mode=mode,\n",
    "    )\n",
    "    graph = raw.get_true_targets()\n",
    "    graph = graph.query(\"r in @rel\")\n",
    "\n",
    "    if mode == \"tail-batch\":\n",
    "        # get true tail triples from graph\n",
    "\n",
    "        merged = pd.merge(\n",
    "            left=df[[\"e1\", \"r\", \"answers\", \"predicted_answers\"]].rename(\n",
    "                columns={\"e1\": \"h\"}\n",
    "            ),\n",
    "            right=graph,\n",
    "            how=\"left\",\n",
    "            on=[\"h\", \"r\"],\n",
    "        )\n",
    "        merged = merged.rename(columns={\"t\": \"true_t\"})\n",
    "\n",
    "        # ensure answers is in 'true_t'. First remove all predicted answers with no predictions\n",
    "        merged = merged[merged[\"predicted_answers\"].apply(lambda x: len(x) > 0)]\n",
    "        # add answers to true t\n",
    "        merged[\"true_t\"] = [\n",
    "            list(set(val) | set(merged.answers.iloc[ind]))\n",
    "            if type(val) != float\n",
    "            else list(set(merged.answers.iloc[ind]))\n",
    "            for ind, val in enumerate(merged.true_t)\n",
    "        ]\n",
    "\n",
    "    elif mode == \"head-batch\":\n",
    "        # get True head triples from graph\n",
    "        merged = pd.merge(\n",
    "            left=df[[\"e1\", \"r\", \"answers\", \"predicted_answers\"]].rename(\n",
    "                columns={\"e1\": \"t\"}\n",
    "            ),\n",
    "            right=graph,\n",
    "            how=\"left\",\n",
    "            on=[\"r\", \"t\"],\n",
    "        )\n",
    "        merged = merged.rename(columns={\"t\": \"true_h\", \"h\": \"t\"})\n",
    "\n",
    "        # ensure answers is in 'true_t'. First remove all predicted answers with no predictions\n",
    "        merged = merged[merged[\"predicted_answers\"].apply(lambda x: len(x) > 0)]\n",
    "        # add answers to true t\n",
    "        merged[\"true_h\"] = [\n",
    "            list(set(val) | set(merged.answers.iloc[ind]))\n",
    "            if type(val) != float\n",
    "            else list(set(merged.answers.iloc[ind]))\n",
    "            for ind, val in enumerate(merged.true_h)\n",
    "        ]\n",
    "\n",
    "    else:\n",
    "        raise ValueError(f'{batch} is not in {\"head-batch\",\"tail-batch\"}')\n",
    "    return merged\n",
    "\n",
    "\n",
    "def flatten_list(a_ls: list) -> list:\n",
    "    \"\"\"\n",
    "    given a list of list, flatten to a 1D list\n",
    "    \"\"\"\n",
    "    return_ls = list()\n",
    "    for i in a_ls:\n",
    "        min_ls = list()\n",
    "        for j in i:\n",
    "            if type(j) == list:\n",
    "                for k in j:\n",
    "                    min_ls.append(k)\n",
    "            else:\n",
    "                min_ls.append(j)\n",
    "        min_ls = list(set(min_ls))\n",
    "        return_ls.append(min_ls)\n",
    "\n",
    "    return return_ls\n",
    "\n",
    "\n",
    "# ensure answers are in true_t\n",
    "\n",
    "\n",
    "def add_list_to_list(ls1: list, ls2: list) -> list:\n",
    "    \"\"\"\n",
    "    Given two lists of lists, add list from ls1 to ls2 at the same index\n",
    "    ls1: list to add to another list\n",
    "    ls2: list to extend\n",
    "    \"\"\"\n",
    "\n",
    "    for i, val in enumerate(ls1):\n",
    "        ls2_item = ls2[i]\n",
    "        ls2_item.extend(val)\n",
    "        ls2[i] = list(set(ls2_item))\n",
    "\n",
    "    return ls2"
   ]
  },
  {
   "cell_type": "code",
   "execution_count": 5,
   "id": "23473477-dc62-4d87-80ac-b1431f2acf76",
   "metadata": {},
   "outputs": [],
   "source": [
    "## get indications only\n",
    "pcbr_df = process_dataframe(\n",
    "    df=pcbr_df,\n",
    "    data_dir=\"../data/MIND_CtD/\",\n",
    "    model_dir=\"../models/TransE_MIND_CtD_megha\",\n",
    ")\n",
    "\n",
    "# note that true_t are all unique answers\n",
    "pcbr_df = pcbr_df.query('r==\"indication\"')"
   ]
  },
  {
   "cell_type": "markdown",
   "id": "447818f9-6672-4aae-9c0b-9892ebce42ea",
   "metadata": {},
   "source": [
    "#### pCBR DataFrame"
   ]
  },
  {
   "cell_type": "code",
   "execution_count": 6,
   "id": "39453f4a-4eb2-4043-9bb2-a235303c895e",
   "metadata": {},
   "outputs": [
    {
     "data": {
      "text/html": [
       "<div>\n",
       "<style scoped>\n",
       "    .dataframe tbody tr th:only-of-type {\n",
       "        vertical-align: middle;\n",
       "    }\n",
       "\n",
       "    .dataframe tbody tr th {\n",
       "        vertical-align: top;\n",
       "    }\n",
       "\n",
       "    .dataframe thead th {\n",
       "        text-align: right;\n",
       "    }\n",
       "</style>\n",
       "<table border=\"1\" class=\"dataframe\">\n",
       "  <thead>\n",
       "    <tr style=\"text-align: right;\">\n",
       "      <th></th>\n",
       "      <th>h</th>\n",
       "      <th>r</th>\n",
       "      <th>answers</th>\n",
       "      <th>predicted_answers</th>\n",
       "      <th>true_t</th>\n",
       "      <th>algo</th>\n",
       "    </tr>\n",
       "  </thead>\n",
       "  <tbody>\n",
       "    <tr>\n",
       "      <th>0</th>\n",
       "      <td>CHEBI:135735</td>\n",
       "      <td>indication</td>\n",
       "      <td>[DOID:10763]</td>\n",
       "      <td>[DOID:6432, DOID:6000, DOID:10763, DOID:10591,...</td>\n",
       "      <td>[DOID:10591, DOID:11130, DOID:10825, DOID:1076...</td>\n",
       "      <td>pCBR</td>\n",
       "    </tr>\n",
       "    <tr>\n",
       "      <th>2</th>\n",
       "      <td>CHEBI:135738</td>\n",
       "      <td>indication</td>\n",
       "      <td>[DOID:10763]</td>\n",
       "      <td>[DOID:10763, DOID:446, DOID:10591, DOID:10824,...</td>\n",
       "      <td>[DOID:10591, DOID:11130, DOID:10825, DOID:1076...</td>\n",
       "      <td>pCBR</td>\n",
       "    </tr>\n",
       "  </tbody>\n",
       "</table>\n",
       "</div>"
      ],
      "text/plain": [
       "              h           r       answers  \\\n",
       "0  CHEBI:135735  indication  [DOID:10763]   \n",
       "2  CHEBI:135738  indication  [DOID:10763]   \n",
       "\n",
       "                                   predicted_answers  \\\n",
       "0  [DOID:6432, DOID:6000, DOID:10763, DOID:10591,...   \n",
       "2  [DOID:10763, DOID:446, DOID:10591, DOID:10824,...   \n",
       "\n",
       "                                              true_t  algo  \n",
       "0  [DOID:10591, DOID:11130, DOID:10825, DOID:1076...  pCBR  \n",
       "2  [DOID:10591, DOID:11130, DOID:10825, DOID:1076...  pCBR  "
      ]
     },
     "execution_count": 6,
     "metadata": {},
     "output_type": "execute_result"
    }
   ],
   "source": [
    "# flatten true_t\n",
    "pcbr_df.true_t = flatten_list(pcbr_df.true_t)\n",
    "pcbr_df.true_t = add_list_to_list(list(pcbr_df.answers), list(pcbr_df.true_t))\n",
    "pcbr_df[\"algo\"] = \"pCBR\"\n",
    "\n",
    "pcbr_df.head(2)"
   ]
  },
  {
   "cell_type": "markdown",
   "id": "1a3eb6c9-159b-4680-8f56-6172ec5f92f4",
   "metadata": {},
   "source": [
    "### Import CBR"
   ]
  },
  {
   "cell_type": "code",
   "execution_count": 7,
   "id": "20a3550c-7d97-4999-aebc-e8d76677ad0c",
   "metadata": {},
   "outputs": [
    {
     "data": {
      "text/html": [
       "<div>\n",
       "<style scoped>\n",
       "    .dataframe tbody tr th:only-of-type {\n",
       "        vertical-align: middle;\n",
       "    }\n",
       "\n",
       "    .dataframe tbody tr th {\n",
       "        vertical-align: top;\n",
       "    }\n",
       "\n",
       "    .dataframe thead th {\n",
       "        text-align: right;\n",
       "    }\n",
       "</style>\n",
       "<table border=\"1\" class=\"dataframe\">\n",
       "  <thead>\n",
       "    <tr style=\"text-align: right;\">\n",
       "      <th></th>\n",
       "      <th>h</th>\n",
       "      <th>r</th>\n",
       "      <th>answers</th>\n",
       "      <th>predicted_answers</th>\n",
       "      <th>true_t</th>\n",
       "      <th>algo</th>\n",
       "    </tr>\n",
       "  </thead>\n",
       "  <tbody>\n",
       "    <tr>\n",
       "      <th>0</th>\n",
       "      <td>CHEBI:135735</td>\n",
       "      <td>indication</td>\n",
       "      <td>[DOID:10763]</td>\n",
       "      <td>[DOID:3393, DOID:6000, DOID:10763, DOID:3683, ...</td>\n",
       "      <td>[DOID:10591, DOID:11130, DOID:10825, DOID:1076...</td>\n",
       "      <td>CBR</td>\n",
       "    </tr>\n",
       "    <tr>\n",
       "      <th>1</th>\n",
       "      <td>CHEBI:135738</td>\n",
       "      <td>indication</td>\n",
       "      <td>[DOID:10763]</td>\n",
       "      <td>[HP:0000006, HP:0000007, HP:0001425, HP:000142...</td>\n",
       "      <td>[DOID:10591, DOID:11130, DOID:10825, DOID:1076...</td>\n",
       "      <td>CBR</td>\n",
       "    </tr>\n",
       "  </tbody>\n",
       "</table>\n",
       "</div>"
      ],
      "text/plain": [
       "              h           r       answers  \\\n",
       "0  CHEBI:135735  indication  [DOID:10763]   \n",
       "1  CHEBI:135738  indication  [DOID:10763]   \n",
       "\n",
       "                                   predicted_answers  \\\n",
       "0  [DOID:3393, DOID:6000, DOID:10763, DOID:3683, ...   \n",
       "1  [HP:0000006, HP:0000007, HP:0001425, HP:000142...   \n",
       "\n",
       "                                              true_t algo  \n",
       "0  [DOID:10591, DOID:11130, DOID:10825, DOID:1076...  CBR  \n",
       "1  [DOID:10591, DOID:11130, DOID:10825, DOID:1076...  CBR  "
      ]
     },
     "execution_count": 7,
     "metadata": {},
     "output_type": "execute_result"
    }
   ],
   "source": [
    "cbr_df = json_to_df(\"/home/msinha/CBR-AKBC/results/data_CBRonMIND_CtD.json\")\n",
    "cbr_df = process_dataframe(\n",
    "    df=cbr_df, data_dir=\"../data/MIND_CtD\", model_dir=\"../models/TransE_MIND_CtD_megha/\"\n",
    ")\n",
    "# ensure answers are in true_t\n",
    "cbr_df.true_t = flatten_list(list(cbr_df.true_t))\n",
    "cbr_df.true_t = add_list_to_list(list(cbr_df.answers), list(cbr_df.true_t))\n",
    "cbr_df[\"algo\"] = \"CBR\"\n",
    "cbr_df.head(2)"
   ]
  },
  {
   "cell_type": "markdown",
   "id": "ff2af945-8ece-4779-8344-ee0063129690",
   "metadata": {},
   "source": [
    "### Import Rephetio Results"
   ]
  },
  {
   "cell_type": "code",
   "execution_count": 8,
   "id": "ae091fe6-ffa9-48d0-9df6-9cbfc16870ca",
   "metadata": {},
   "outputs": [
    {
     "data": {
      "text/html": [
       "<div>\n",
       "<style scoped>\n",
       "    .dataframe tbody tr th:only-of-type {\n",
       "        vertical-align: middle;\n",
       "    }\n",
       "\n",
       "    .dataframe tbody tr th {\n",
       "        vertical-align: top;\n",
       "    }\n",
       "\n",
       "    .dataframe thead th {\n",
       "        text-align: right;\n",
       "    }\n",
       "</style>\n",
       "<table border=\"1\" class=\"dataframe\">\n",
       "  <thead>\n",
       "    <tr style=\"text-align: right;\">\n",
       "      <th></th>\n",
       "      <th>h</th>\n",
       "      <th>predicted_answers</th>\n",
       "      <th>answers</th>\n",
       "      <th>proba</th>\n",
       "      <th>algo</th>\n",
       "    </tr>\n",
       "  </thead>\n",
       "  <tbody>\n",
       "    <tr>\n",
       "      <th>0</th>\n",
       "      <td>CHEBI:135735</td>\n",
       "      <td>[DOID:10763, DOID:5844, DOID:10825, DOID:2559,...</td>\n",
       "      <td>[DOID:10591, DOID:10824, DOID:10825, DOID:1113...</td>\n",
       "      <td>[0.6733899229161452, 0.1993276939787308, 0.091...</td>\n",
       "      <td>Rephetio</td>\n",
       "    </tr>\n",
       "    <tr>\n",
       "      <th>1</th>\n",
       "      <td>CHEBI:135738</td>\n",
       "      <td>[DOID:10763, DOID:0060224, DOID:10825, DOID:58...</td>\n",
       "      <td>[DOID:10591, DOID:10824, DOID:10825, DOID:1113...</td>\n",
       "      <td>[0.9325203250946036, 0.780770655712133, 0.5917...</td>\n",
       "      <td>Rephetio</td>\n",
       "    </tr>\n",
       "  </tbody>\n",
       "</table>\n",
       "</div>"
      ],
      "text/plain": [
       "              h                                  predicted_answers  \\\n",
       "0  CHEBI:135735  [DOID:10763, DOID:5844, DOID:10825, DOID:2559,...   \n",
       "1  CHEBI:135738  [DOID:10763, DOID:0060224, DOID:10825, DOID:58...   \n",
       "\n",
       "                                             answers  \\\n",
       "0  [DOID:10591, DOID:10824, DOID:10825, DOID:1113...   \n",
       "1  [DOID:10591, DOID:10824, DOID:10825, DOID:1113...   \n",
       "\n",
       "                                               proba      algo  \n",
       "0  [0.6733899229161452, 0.1993276939787308, 0.091...  Rephetio  \n",
       "1  [0.9325203250946036, 0.780770655712133, 0.5917...  Rephetio  "
      ]
     },
     "execution_count": 8,
     "metadata": {},
     "output_type": "execute_result"
    }
   ],
   "source": [
    "raw = score_utils.ProcessOutput(\n",
    "    data_dir=\"../data/MIND_CtD/\",\n",
    "    scores_outfile=os.path.join(\"../models/TransE_MIND_CtD_megha/\", \"test_scores.tsv\"),\n",
    "    mode=\"tail-batch\",\n",
    ")\n",
    "known_triples = raw.get_true_targets()\n",
    "known_triples = known_triples.query(\"r == 'indication' or r == 'indication_CiD'\")\n",
    "\n",
    "# get unique chemicalsubstances and group the items togeher\n",
    "rephetio = (\n",
    "    pd.read_csv(\n",
    "        \"../../MechRepoNet/1_code/KG_reasoning_comparison/Rephetio_MIND_CtD_test/results.csv\"\n",
    "    )\n",
    "    .sort_values(by=\"proba\", ascending=False)\n",
    "    .groupby(\"chemicalsubstance_id\")\n",
    "    .agg(lambda x: list(x))\n",
    "    .reset_index()\n",
    "    .rename(columns={\"chemicalsubstance_id\": \"h\", \"disease_id\": \"predicted_answers\"})[\n",
    "        [\"h\", \"predicted_answers\", \"proba\"]\n",
    "    ]\n",
    ")\n",
    "\n",
    "rephetio[\"algo\"] = \"Rephetio\"\n",
    "\n",
    "# merge known answers with rephetio to get a list of known answers per chemical compound. Just formatting\n",
    "rephetio = pd.merge(left=rephetio, right=known_triples, on=\"h\", how=\"left\").rename(\n",
    "    columns={\"t\": \"answers\"}\n",
    ")[[\"h\", \"predicted_answers\", \"answers\", \"proba\", \"algo\"]]\n",
    "\n",
    "rephetio.head(2)"
   ]
  },
  {
   "cell_type": "code",
   "execution_count": 9,
   "id": "8198ce70-35c6-4c2c-851d-7a1ae7a8b947",
   "metadata": {},
   "outputs": [
    {
     "data": {
      "text/plain": [
       "count    374.0\n",
       "mean     100.0\n",
       "std        0.0\n",
       "min      100.0\n",
       "25%      100.0\n",
       "50%      100.0\n",
       "75%      100.0\n",
       "max      100.0\n",
       "Name: predicted_answers, dtype: float64"
      ]
     },
     "execution_count": 9,
     "metadata": {},
     "output_type": "execute_result"
    }
   ],
   "source": [
    "# limit predicted answers to top 100\n",
    "rephetio[\"predicted_answers\"] = rephetio[\"predicted_answers\"].apply(lambda x: x[0:100])\n",
    "rephetio.predicted_answers.apply(lambda x: len(x)).describe()"
   ]
  },
  {
   "cell_type": "markdown",
   "id": "d878b290-2541-46be-8bce-767c2da90b89",
   "metadata": {},
   "source": [
    "### Import KGE Results"
   ]
  },
  {
   "cell_type": "code",
   "execution_count": 10,
   "id": "4b191636-3803-40f5-be58-054a9d15f61d",
   "metadata": {},
   "outputs": [
    {
     "name": "stdout",
     "output_type": "stream",
     "text": [
      "TransE\n",
      "Shape: (537, 7)\n",
      "DistMult\n",
      "Shape: (537, 7)\n",
      "ComplEx\n",
      "Shape: (537, 7)\n",
      "RotatE\n",
      "Shape: (537, 7)\n"
     ]
    }
   ],
   "source": [
    "kge_ls = list()\n",
    "for i in [\"TransE\", \"DistMult\", \"ComplEx\", \"RotatE\"]:\n",
    "    print(i)\n",
    "    raw = score_utils.ProcessOutput(\n",
    "        data_dir=\"../data/MIND_CtD\",\n",
    "        scores_outfile=f\"../models/{i}_MIND_CtD_megha/test_scores.tsv\",\n",
    "        mode=\"tail-batch\",\n",
    "    )\n",
    "    raw.format_raw_scores_to_df()\n",
    "    raw.translate_embeddings(direction=\"from\")\n",
    "\n",
    "    df = raw.filter_predictions(top=100).query('batch==\"tail-batch\"')\n",
    "    # limit to top 100\n",
    "    df[\"preds\"] = df[\"preds\"].apply(lambda x: x[0:100])\n",
    "    df[\"algo\"] = i\n",
    "    kge_ls.append(df)\n",
    "    print(f\"Shape: {df.shape}\")"
   ]
  },
  {
   "cell_type": "code",
   "execution_count": 11,
   "id": "4cde59d1-ecf2-4261-a853-32bc087d7baf",
   "metadata": {},
   "outputs": [
    {
     "data": {
      "text/html": [
       "<div>\n",
       "<style scoped>\n",
       "    .dataframe tbody tr th:only-of-type {\n",
       "        vertical-align: middle;\n",
       "    }\n",
       "\n",
       "    .dataframe tbody tr th {\n",
       "        vertical-align: top;\n",
       "    }\n",
       "\n",
       "    .dataframe thead th {\n",
       "        text-align: right;\n",
       "    }\n",
       "</style>\n",
       "<table border=\"1\" class=\"dataframe\">\n",
       "  <thead>\n",
       "    <tr style=\"text-align: right;\">\n",
       "      <th></th>\n",
       "      <th>h</th>\n",
       "      <th>r</th>\n",
       "      <th>preds</th>\n",
       "      <th>batch</th>\n",
       "      <th>true_t</th>\n",
       "      <th>filt_preds</th>\n",
       "      <th>algo</th>\n",
       "    </tr>\n",
       "  </thead>\n",
       "  <tbody>\n",
       "    <tr>\n",
       "      <th>537</th>\n",
       "      <td>CHEBI:135735</td>\n",
       "      <td>indication</td>\n",
       "      <td>[CHEBI:135735, DOID:9654, UMLS:C0221155, WD:Q2...</td>\n",
       "      <td>tail-batch</td>\n",
       "      <td>[DOID:10591, DOID:10824, DOID:10825, DOID:1113...</td>\n",
       "      <td>[DOID:9654, UMLS:C0221155, WD:Q25303605, MONDO...</td>\n",
       "      <td>TransE</td>\n",
       "    </tr>\n",
       "    <tr>\n",
       "      <th>538</th>\n",
       "      <td>CHEBI:135738</td>\n",
       "      <td>indication</td>\n",
       "      <td>[CHEBI:135738, DOID:10763, DOID:9654, WD:Q2530...</td>\n",
       "      <td>tail-batch</td>\n",
       "      <td>[DOID:10591, DOID:10824, DOID:10825, DOID:1113...</td>\n",
       "      <td>[DOID:9654, WD:Q25303605, UMLS:C0221155, CHEBI...</td>\n",
       "      <td>TransE</td>\n",
       "    </tr>\n",
       "  </tbody>\n",
       "</table>\n",
       "</div>"
      ],
      "text/plain": [
       "                h           r  \\\n",
       "537  CHEBI:135735  indication   \n",
       "538  CHEBI:135738  indication   \n",
       "\n",
       "                                                 preds       batch  \\\n",
       "537  [CHEBI:135735, DOID:9654, UMLS:C0221155, WD:Q2...  tail-batch   \n",
       "538  [CHEBI:135738, DOID:10763, DOID:9654, WD:Q2530...  tail-batch   \n",
       "\n",
       "                                                true_t  \\\n",
       "537  [DOID:10591, DOID:10824, DOID:10825, DOID:1113...   \n",
       "538  [DOID:10591, DOID:10824, DOID:10825, DOID:1113...   \n",
       "\n",
       "                                            filt_preds    algo  \n",
       "537  [DOID:9654, UMLS:C0221155, WD:Q25303605, MONDO...  TransE  \n",
       "538  [DOID:9654, WD:Q25303605, UMLS:C0221155, CHEBI...  TransE  "
      ]
     },
     "execution_count": 11,
     "metadata": {},
     "output_type": "execute_result"
    }
   ],
   "source": [
    "kge_df = pd.concat(kge_ls)\n",
    "kge_df.head(2)"
   ]
  },
  {
   "cell_type": "code",
   "execution_count": 12,
   "id": "14ce3b7a-ff11-4f9c-92bf-6ac70d99cf20",
   "metadata": {},
   "outputs": [
    {
     "name": "stdout",
     "output_type": "stream",
     "text": [
      "Before duplicate removal: (2148, 7)\n",
      "After: (1548, 7)\n"
     ]
    }
   ],
   "source": [
    "# Drop duplicate compounds, all predictions are the same given compound and model\n",
    "print(f\"Before duplicate removal: {kge_df.shape}\")\n",
    "kge_df = kge_df.drop_duplicates(subset=[\"h\", \"r\", \"algo\"])\n",
    "print(f\"After: {kge_df.shape}\")"
   ]
  },
  {
   "cell_type": "markdown",
   "id": "e59ea395-ed6a-4626-83fe-6f3c6a24e2fa",
   "metadata": {},
   "source": [
    "## Unify headers and clean data"
   ]
  },
  {
   "cell_type": "code",
   "execution_count": 13,
   "id": "158c92f4-49ad-492f-8127-6de0a8878aec",
   "metadata": {},
   "outputs": [
    {
     "data": {
      "text/plain": [
       "322"
      ]
     },
     "execution_count": 13,
     "metadata": {},
     "output_type": "execute_result"
    }
   ],
   "source": [
    "# cbr and rephetio don't yield results for some of the compound disease predictions\n",
    "(\n",
    "    len(\n",
    "        set(pcbr_df[\"h\"])\n",
    "        .intersection(set(cbr_df[\"h\"]))\n",
    "        .intersection(set(rephetio[\"h\"]))\n",
    "        .intersection(set(kge_df.query('algo==\"TransE\"')[\"h\"]))\n",
    "    )\n",
    ")"
   ]
  },
  {
   "cell_type": "code",
   "execution_count": 14,
   "id": "1d4075c5-e6c1-41f7-91c1-1a874d542b96",
   "metadata": {},
   "outputs": [
    {
     "data": {
      "text/plain": [
       "(460, 6)"
      ]
     },
     "execution_count": 14,
     "metadata": {},
     "output_type": "execute_result"
    }
   ],
   "source": [
    "intersection_ls = list(\n",
    "    set(pcbr_df[\"h\"])\n",
    "    .intersection(set(cbr_df[\"h\"]))\n",
    "    .intersection(set(rephetio[\"h\"]))\n",
    "    .intersection(set(kge_df.query('algo==\"TransE\"')[\"h\"]))\n",
    ")\n",
    "\n",
    "cbr_df = cbr_df.explode(column=\"answers\").query(\"h in @intersection_ls\")\n",
    "cbr_df.shape"
   ]
  },
  {
   "cell_type": "code",
   "execution_count": 15,
   "id": "121775c2-ce0c-468b-81ba-3af0430190d3",
   "metadata": {},
   "outputs": [
    {
     "data": {
      "text/plain": [
       "(460, 6)"
      ]
     },
     "execution_count": 15,
     "metadata": {},
     "output_type": "execute_result"
    }
   ],
   "source": [
    "pcbr_df = pcbr_df.explode(column=\"answers\").query(\"h in @intersection_ls\")\n",
    "pcbr_df.shape"
   ]
  },
  {
   "cell_type": "code",
   "execution_count": 16,
   "id": "1d05d8f7-3d5c-4bd5-b38c-34456a200a04",
   "metadata": {},
   "outputs": [
    {
     "data": {
      "text/html": [
       "<div>\n",
       "<style scoped>\n",
       "    .dataframe tbody tr th:only-of-type {\n",
       "        vertical-align: middle;\n",
       "    }\n",
       "\n",
       "    .dataframe tbody tr th {\n",
       "        vertical-align: top;\n",
       "    }\n",
       "\n",
       "    .dataframe thead th {\n",
       "        text-align: right;\n",
       "    }\n",
       "</style>\n",
       "<table border=\"1\" class=\"dataframe\">\n",
       "  <thead>\n",
       "    <tr style=\"text-align: right;\">\n",
       "      <th></th>\n",
       "      <th>h</th>\n",
       "      <th>r</th>\n",
       "      <th>answers</th>\n",
       "      <th>predicted_answers</th>\n",
       "      <th>true_t</th>\n",
       "      <th>algo</th>\n",
       "    </tr>\n",
       "  </thead>\n",
       "  <tbody>\n",
       "    <tr>\n",
       "      <th>0</th>\n",
       "      <td>CHEBI:135735</td>\n",
       "      <td>indication</td>\n",
       "      <td>DOID:10763</td>\n",
       "      <td>[DOID:10763, DOID:5844, DOID:10825, DOID:2559,...</td>\n",
       "      <td>[DOID:10591, DOID:11130, DOID:10825, DOID:1076...</td>\n",
       "      <td>Rephetio</td>\n",
       "    </tr>\n",
       "  </tbody>\n",
       "</table>\n",
       "</div>"
      ],
      "text/plain": [
       "              h           r     answers  \\\n",
       "0  CHEBI:135735  indication  DOID:10763   \n",
       "\n",
       "                                   predicted_answers  \\\n",
       "0  [DOID:10763, DOID:5844, DOID:10825, DOID:2559,...   \n",
       "\n",
       "                                              true_t      algo  \n",
       "0  [DOID:10591, DOID:11130, DOID:10825, DOID:1076...  Rephetio  "
      ]
     },
     "execution_count": 16,
     "metadata": {},
     "output_type": "execute_result"
    }
   ],
   "source": [
    "rephetio_df = rephetio[[\"h\", \"predicted_answers\", \"algo\"]]\n",
    "\n",
    "# reorganize the dataframe and merge in true_answer\n",
    "rephetio_df = pd.merge(\n",
    "    left=rephetio_df,\n",
    "    right=cbr_df[[\"h\", \"r\", \"answers\", \"true_t\"]],\n",
    "    on=\"h\",\n",
    "    how=\"right\",\n",
    ")[[\"h\", \"r\", \"answers\", \"predicted_answers\", \"true_t\", \"algo\"]]\n",
    "\n",
    "rephetio_df.head(1)"
   ]
  },
  {
   "cell_type": "code",
   "execution_count": 17,
   "id": "41aaf29d-00c5-4b68-a2d7-e09952b318d4",
   "metadata": {},
   "outputs": [
    {
     "data": {
      "text/plain": [
       "(460, 6)"
      ]
     },
     "execution_count": 17,
     "metadata": {},
     "output_type": "execute_result"
    }
   ],
   "source": [
    "rephetio_df.shape"
   ]
  },
  {
   "cell_type": "code",
   "execution_count": 18,
   "id": "f12b746c-5778-48ae-9125-489de754093f",
   "metadata": {},
   "outputs": [],
   "source": [
    "# groupby cbr again..\n",
    "cbr_df_groupby = cbr_df[[\"h\", \"answers\"]].groupby(\"h\").agg(list)"
   ]
  },
  {
   "cell_type": "code",
   "execution_count": 19,
   "id": "d0fc6a74-6f2c-4e28-ad46-d6d970ad5947",
   "metadata": {},
   "outputs": [],
   "source": [
    "# reogranize kge df\n",
    "kge_df = (\n",
    "    pd.merge(left=kge_df, right=cbr_df_groupby, on=\"h\", how=\"left\")\n",
    "    .query(\"h in @intersection_ls\")[[\"h\", \"r\", \"answers\", \"preds\", \"true_t\", \"algo\"]]\n",
    "    .explode(\"answers\")\n",
    ")"
   ]
  },
  {
   "cell_type": "code",
   "execution_count": 20,
   "id": "0d1606bd-d583-4ef4-b7d4-f1da1605d8e5",
   "metadata": {},
   "outputs": [
    {
     "data": {
      "text/plain": [
       "(3220, 6)"
      ]
     },
     "execution_count": 20,
     "metadata": {},
     "output_type": "execute_result"
    }
   ],
   "source": [
    "# combine all df together\n",
    "combined_df = pd.concat(\n",
    "    [\n",
    "        cbr_df,\n",
    "        pcbr_df,\n",
    "        rephetio_df,\n",
    "        kge_df.rename(columns={\"preds\": \"predicted_answers\"}),\n",
    "    ]\n",
    ")\n",
    "combined_df.shape"
   ]
  },
  {
   "cell_type": "code",
   "execution_count": 21,
   "id": "0b6be441-bf1e-4d42-9d5d-803b6e0dd1b5",
   "metadata": {},
   "outputs": [],
   "source": [
    "# Get a consolidated list of Trues\n",
    "get_h2targets = (\n",
    "    combined_df[[\"h\", \"true_t\"]]\n",
    "    .explode(\"true_t\")\n",
    "    .groupby(\"h\")\n",
    "    .agg(lambda x: list(set(x)))\n",
    "    .reset_index()\n",
    ")"
   ]
  },
  {
   "cell_type": "code",
   "execution_count": 22,
   "id": "edb59f75-a5ea-4b60-848d-0a4094b50f18",
   "metadata": {},
   "outputs": [
    {
     "data": {
      "text/plain": [
       "(3220, 7)"
      ]
     },
     "execution_count": 22,
     "metadata": {},
     "output_type": "execute_result"
    }
   ],
   "source": [
    "# create a dict to relabel true_ts\n",
    "new_true_dict = dict(zip(get_h2targets[\"h\"], get_h2targets[\"true_t\"]))\n",
    "\n",
    "combined_df[\"true_t2\"] = [\n",
    "    new_true_dict[val] for i, val in enumerate(list(combined_df[\"h\"]))\n",
    "]\n",
    "combined_df.shape"
   ]
  },
  {
   "cell_type": "code",
   "execution_count": 23,
   "id": "b6a88c30-aec3-486a-bf45-a970588af4f7",
   "metadata": {},
   "outputs": [],
   "source": [
    "combined_df[\"t_equal_t2\"] = [\n",
    "    set(list(combined_df[\"true_t\"])[i]).issubset(set(val))\n",
    "    for i, val in enumerate(list(combined_df[\"true_t2\"]))\n",
    "]"
   ]
  },
  {
   "cell_type": "code",
   "execution_count": 24,
   "id": "03a947c0-4dda-4b1e-8f66-bf786e22903e",
   "metadata": {},
   "outputs": [
    {
     "data": {
      "text/html": [
       "<div>\n",
       "<style scoped>\n",
       "    .dataframe tbody tr th:only-of-type {\n",
       "        vertical-align: middle;\n",
       "    }\n",
       "\n",
       "    .dataframe tbody tr th {\n",
       "        vertical-align: top;\n",
       "    }\n",
       "\n",
       "    .dataframe thead th {\n",
       "        text-align: right;\n",
       "    }\n",
       "</style>\n",
       "<table border=\"1\" class=\"dataframe\">\n",
       "  <thead>\n",
       "    <tr style=\"text-align: right;\">\n",
       "      <th></th>\n",
       "      <th>h</th>\n",
       "      <th>r</th>\n",
       "      <th>answers</th>\n",
       "      <th>predicted_answers</th>\n",
       "      <th>true_t</th>\n",
       "      <th>algo</th>\n",
       "      <th>true_t2</th>\n",
       "      <th>t_equal_t2</th>\n",
       "    </tr>\n",
       "  </thead>\n",
       "  <tbody>\n",
       "  </tbody>\n",
       "</table>\n",
       "</div>"
      ],
      "text/plain": [
       "Empty DataFrame\n",
       "Columns: [h, r, answers, predicted_answers, true_t, algo, true_t2, t_equal_t2]\n",
       "Index: []"
      ]
     },
     "execution_count": 24,
     "metadata": {},
     "output_type": "execute_result"
    }
   ],
   "source": [
    "combined_df.query(\"t_equal_t2==False\")"
   ]
  },
  {
   "cell_type": "code",
   "execution_count": 25,
   "id": "e8d30043-6a81-4a0e-ac39-ba1e31b25652",
   "metadata": {},
   "outputs": [],
   "source": [
    "# reset the indices after concatinations\n",
    "combined_df = combined_df.reset_index()[\n",
    "    [\"h\", \"r\", \"answers\", \"predicted_answers\", \"true_t\", \"algo\"]\n",
    "]"
   ]
  },
  {
   "cell_type": "code",
   "execution_count": 26,
   "id": "7745f04e-1fcc-4016-a716-866f15611c00",
   "metadata": {},
   "outputs": [
    {
     "data": {
      "text/html": [
       "<div>\n",
       "<style scoped>\n",
       "    .dataframe tbody tr th:only-of-type {\n",
       "        vertical-align: middle;\n",
       "    }\n",
       "\n",
       "    .dataframe tbody tr th {\n",
       "        vertical-align: top;\n",
       "    }\n",
       "\n",
       "    .dataframe thead th {\n",
       "        text-align: right;\n",
       "    }\n",
       "</style>\n",
       "<table border=\"1\" class=\"dataframe\">\n",
       "  <thead>\n",
       "    <tr style=\"text-align: right;\">\n",
       "      <th></th>\n",
       "      <th>h</th>\n",
       "      <th>r</th>\n",
       "      <th>answers</th>\n",
       "      <th>predicted_answers</th>\n",
       "      <th>true_t</th>\n",
       "      <th>algo</th>\n",
       "    </tr>\n",
       "  </thead>\n",
       "  <tbody>\n",
       "    <tr>\n",
       "      <th>0</th>\n",
       "      <td>CHEBI:135735</td>\n",
       "      <td>indication</td>\n",
       "      <td>DOID:10763</td>\n",
       "      <td>[DOID:3393, DOID:6000, DOID:10763, DOID:3683, ...</td>\n",
       "      <td>[DOID:10591, DOID:11130, DOID:10825, DOID:1076...</td>\n",
       "      <td>CBR</td>\n",
       "    </tr>\n",
       "    <tr>\n",
       "      <th>1</th>\n",
       "      <td>CHEBI:135738</td>\n",
       "      <td>indication</td>\n",
       "      <td>DOID:10763</td>\n",
       "      <td>[HP:0000006, HP:0000007, HP:0001425, HP:000142...</td>\n",
       "      <td>[DOID:10591, DOID:11130, DOID:10825, DOID:1076...</td>\n",
       "      <td>CBR</td>\n",
       "    </tr>\n",
       "  </tbody>\n",
       "</table>\n",
       "</div>"
      ],
      "text/plain": [
       "              h           r     answers  \\\n",
       "0  CHEBI:135735  indication  DOID:10763   \n",
       "1  CHEBI:135738  indication  DOID:10763   \n",
       "\n",
       "                                   predicted_answers  \\\n",
       "0  [DOID:3393, DOID:6000, DOID:10763, DOID:3683, ...   \n",
       "1  [HP:0000006, HP:0000007, HP:0001425, HP:000142...   \n",
       "\n",
       "                                              true_t algo  \n",
       "0  [DOID:10591, DOID:11130, DOID:10825, DOID:1076...  CBR  \n",
       "1  [DOID:10591, DOID:11130, DOID:10825, DOID:1076...  CBR  "
      ]
     },
     "execution_count": 26,
     "metadata": {},
     "output_type": "execute_result"
    }
   ],
   "source": [
    "combined_df.head(2)"
   ]
  },
  {
   "cell_type": "markdown",
   "id": "06d409f5-08e2-4d54-9be9-d379b4aa0595",
   "metadata": {},
   "source": [
    "## Get dataset intersections"
   ]
  },
  {
   "cell_type": "markdown",
   "id": "69793ba8-e858-459c-a267-037b98147126",
   "metadata": {},
   "source": [
    "#### Import interested compound list"
   ]
  },
  {
   "cell_type": "code",
   "execution_count": 28,
   "id": "37139d9a-93e2-494d-93d1-856b249f48e2",
   "metadata": {},
   "outputs": [
    {
     "data": {
      "text/plain": [
       "25"
      ]
     },
     "execution_count": 28,
     "metadata": {},
     "output_type": "execute_result"
    }
   ],
   "source": [
    "int_comp_list = list(\n",
    "    pd.read_csv(\"./top_predictions_7_intersection.csv\", sep=\",\").compounds\n",
    ")\n",
    "len(int_comp_list)"
   ]
  },
  {
   "cell_type": "markdown",
   "id": "ae89a0cc-b0d2-4a9a-9887-c9a50b84f3bf",
   "metadata": {},
   "source": [
    "#### separate trues from the predicted"
   ]
  },
  {
   "cell_type": "code",
   "execution_count": 37,
   "id": "582b899e-3ed7-439d-ac35-6fc0ba20c564",
   "metadata": {},
   "outputs": [],
   "source": [
    "def split_predict(predicted_answers: list, trues: list):\n",
    "    \"\"\"\n",
    "    Returns two dictionaries of trues and predicted, and their respective ranks\n",
    "    \"\"\"\n",
    "    true_dict = {\n",
    "        true: predicted_answers.index(true) + 1\n",
    "        for true in trues\n",
    "        if true in predicted_answers\n",
    "    }\n",
    "    pred_dict = {pred: i + 1 for i, pred in enumerate(predicted_answers)}\n",
    "    pred_dict = {k: v for k, v in pred_dict.items() if k not in trues}\n",
    "\n",
    "    return true_dict, pred_dict"
   ]
  },
  {
   "cell_type": "code",
   "execution_count": 42,
   "id": "e11490eb-ffcc-433a-a28e-24d285ced1c9",
   "metadata": {},
   "outputs": [
    {
     "data": {
      "text/html": [
       "<div>\n",
       "<style scoped>\n",
       "    .dataframe tbody tr th:only-of-type {\n",
       "        vertical-align: middle;\n",
       "    }\n",
       "\n",
       "    .dataframe tbody tr th {\n",
       "        vertical-align: top;\n",
       "    }\n",
       "\n",
       "    .dataframe thead th {\n",
       "        text-align: right;\n",
       "    }\n",
       "</style>\n",
       "<table border=\"1\" class=\"dataframe\">\n",
       "  <thead>\n",
       "    <tr style=\"text-align: right;\">\n",
       "      <th></th>\n",
       "      <th>h</th>\n",
       "      <th>r</th>\n",
       "      <th>answers</th>\n",
       "      <th>predicted_answers</th>\n",
       "      <th>true_t</th>\n",
       "      <th>algo</th>\n",
       "      <th>true_ranks</th>\n",
       "      <th>pred_ranks</th>\n",
       "    </tr>\n",
       "  </thead>\n",
       "  <tbody>\n",
       "    <tr>\n",
       "      <th>0</th>\n",
       "      <td>CHEBI:135735</td>\n",
       "      <td>indication</td>\n",
       "      <td>DOID:10763</td>\n",
       "      <td>[DOID:3393, DOID:6000, DOID:10763, DOID:3683, ...</td>\n",
       "      <td>[DOID:10591, DOID:11130, DOID:10825, DOID:1076...</td>\n",
       "      <td>CBR</td>\n",
       "      <td>{'DOID:10591': 13, 'DOID:10763': 3, 'DOID:6432...</td>\n",
       "      <td>{'DOID:3393': 1, 'DOID:6000': 2, 'DOID:3683': ...</td>\n",
       "    </tr>\n",
       "    <tr>\n",
       "      <th>1</th>\n",
       "      <td>CHEBI:135738</td>\n",
       "      <td>indication</td>\n",
       "      <td>DOID:10763</td>\n",
       "      <td>[HP:0000006, HP:0000007, HP:0001425, HP:000142...</td>\n",
       "      <td>[DOID:10591, DOID:11130, DOID:10825, DOID:1076...</td>\n",
       "      <td>CBR</td>\n",
       "      <td>{'DOID:10763': 8, 'DOID:6432': 99}</td>\n",
       "      <td>{'HP:0000006': 1, 'HP:0000007': 2, 'HP:0001425...</td>\n",
       "    </tr>\n",
       "  </tbody>\n",
       "</table>\n",
       "</div>"
      ],
      "text/plain": [
       "              h           r     answers  \\\n",
       "0  CHEBI:135735  indication  DOID:10763   \n",
       "1  CHEBI:135738  indication  DOID:10763   \n",
       "\n",
       "                                   predicted_answers  \\\n",
       "0  [DOID:3393, DOID:6000, DOID:10763, DOID:3683, ...   \n",
       "1  [HP:0000006, HP:0000007, HP:0001425, HP:000142...   \n",
       "\n",
       "                                              true_t algo  \\\n",
       "0  [DOID:10591, DOID:11130, DOID:10825, DOID:1076...  CBR   \n",
       "1  [DOID:10591, DOID:11130, DOID:10825, DOID:1076...  CBR   \n",
       "\n",
       "                                          true_ranks  \\\n",
       "0  {'DOID:10591': 13, 'DOID:10763': 3, 'DOID:6432...   \n",
       "1                 {'DOID:10763': 8, 'DOID:6432': 99}   \n",
       "\n",
       "                                          pred_ranks  \n",
       "0  {'DOID:3393': 1, 'DOID:6000': 2, 'DOID:3683': ...  \n",
       "1  {'HP:0000006': 1, 'HP:0000007': 2, 'HP:0001425...  "
      ]
     },
     "execution_count": 42,
     "metadata": {},
     "output_type": "execute_result"
    }
   ],
   "source": [
    "# seperate predictions to trues and predicts with their indices\n",
    "combined_df = combined_df.assign(\n",
    "    true_ranks=[\n",
    "        split_predict(list(combined_df[\"predicted_answers\"])[i], val)[0]\n",
    "        for i, val in enumerate(combined_df[\"true_t\"])\n",
    "    ],\n",
    "    pred_ranks=[\n",
    "        split_predict(list(combined_df[\"predicted_answers\"])[i], val)[1]\n",
    "        for i, val in enumerate(combined_df[\"true_t\"])\n",
    "    ],\n",
    ")\n",
    "combined_df.head(2)"
   ]
  },
  {
   "cell_type": "code",
   "execution_count": 44,
   "id": "7c23c48b-a2a7-4141-8cb9-50000da8b39b",
   "metadata": {},
   "outputs": [
    {
     "data": {
      "text/html": [
       "<div>\n",
       "<style scoped>\n",
       "    .dataframe tbody tr th:only-of-type {\n",
       "        vertical-align: middle;\n",
       "    }\n",
       "\n",
       "    .dataframe tbody tr th {\n",
       "        vertical-align: top;\n",
       "    }\n",
       "\n",
       "    .dataframe thead th {\n",
       "        text-align: right;\n",
       "    }\n",
       "</style>\n",
       "<table border=\"1\" class=\"dataframe\">\n",
       "  <thead>\n",
       "    <tr style=\"text-align: right;\">\n",
       "      <th></th>\n",
       "      <th>h</th>\n",
       "      <th>pred_ranks</th>\n",
       "      <th>algo</th>\n",
       "    </tr>\n",
       "  </thead>\n",
       "  <tbody>\n",
       "    <tr>\n",
       "      <th>4</th>\n",
       "      <td>CHEBI:135925</td>\n",
       "      <td>{'DOID:60080': 1, 'DOID:60075': 2, 'DOID:1612'...</td>\n",
       "      <td>CBR</td>\n",
       "    </tr>\n",
       "    <tr>\n",
       "      <th>15</th>\n",
       "      <td>CHEBI:17439</td>\n",
       "      <td>{'MESH:D008106': 1, 'DOID:50671': 2, 'DOID:600...</td>\n",
       "      <td>CBR</td>\n",
       "    </tr>\n",
       "  </tbody>\n",
       "</table>\n",
       "</div>"
      ],
      "text/plain": [
       "               h                                         pred_ranks algo\n",
       "4   CHEBI:135925  {'DOID:60080': 1, 'DOID:60075': 2, 'DOID:1612'...  CBR\n",
       "15   CHEBI:17439  {'MESH:D008106': 1, 'DOID:50671': 2, 'DOID:600...  CBR"
      ]
     },
     "execution_count": 44,
     "metadata": {},
     "output_type": "execute_result"
    }
   ],
   "source": [
    "# create a subset of the original dataframe of just the predictions and the compound\n",
    "combined_df2 = combined_df.query(\"h in @int_comp_list\")[[\"h\", \"pred_ranks\", \"algo\"]]\n",
    "combined_df2 = combined_df2.reset_index(drop=True)\n",
    "combined_df2.head(2)"
   ]
  },
  {
   "cell_type": "code",
   "execution_count": 58,
   "id": "d2805e24-8bb3-4120-a228-60ed7ea65317",
   "metadata": {},
   "outputs": [],
   "source": [
    "combined_df2[\"top_pred\"] = combined_df2.pred_ranks.apply(lambda x: list(x.keys())[0])\n",
    "combined_df2[[\"h\", \"top_pred\", \"algo\"]].head(2)"
   ]
  },
  {
   "cell_type": "code",
   "execution_count": 60,
   "id": "23c26fc7-842a-4773-8317-a054644749f3",
   "metadata": {},
   "outputs": [
    {
     "data": {
      "text/html": [
       "<div>\n",
       "<style scoped>\n",
       "    .dataframe tbody tr th:only-of-type {\n",
       "        vertical-align: middle;\n",
       "    }\n",
       "\n",
       "    .dataframe tbody tr th {\n",
       "        vertical-align: top;\n",
       "    }\n",
       "\n",
       "    .dataframe thead th {\n",
       "        text-align: right;\n",
       "    }\n",
       "</style>\n",
       "<table border=\"1\" class=\"dataframe\">\n",
       "  <thead>\n",
       "    <tr style=\"text-align: right;\">\n",
       "      <th></th>\n",
       "      <th>h</th>\n",
       "      <th>top_pred</th>\n",
       "      <th>algo</th>\n",
       "    </tr>\n",
       "  </thead>\n",
       "  <tbody>\n",
       "    <tr>\n",
       "      <th>0</th>\n",
       "      <td>CHEBI:135925</td>\n",
       "      <td>DOID:60080</td>\n",
       "      <td>CBR</td>\n",
       "    </tr>\n",
       "    <tr>\n",
       "      <th>1</th>\n",
       "      <td>CHEBI:17439</td>\n",
       "      <td>MESH:D008106</td>\n",
       "      <td>CBR</td>\n",
       "    </tr>\n",
       "  </tbody>\n",
       "</table>\n",
       "</div>"
      ],
      "text/plain": [
       "              h      top_pred algo\n",
       "0  CHEBI:135925    DOID:60080  CBR\n",
       "1   CHEBI:17439  MESH:D008106  CBR"
      ]
     },
     "execution_count": 60,
     "metadata": {},
     "output_type": "execute_result"
    }
   ],
   "source": [
    "combined_df2[[\"h\", \"top_pred\", \"algo\"]].head(2)"
   ]
  },
  {
   "cell_type": "markdown",
   "id": "0d6d92ca-7cd2-4ead-94cc-44b31b076e82",
   "metadata": {},
   "source": [
    "#### Import in the dictionary names"
   ]
  },
  {
   "cell_type": "code",
   "execution_count": 61,
   "id": "f1e6b44c-2268-4c58-8998-a4e3ead82441",
   "metadata": {},
   "outputs": [
    {
     "name": "stderr",
     "output_type": "stream",
     "text": [
      "/tmp/ipykernel_1566289/1917997399.py:1: DtypeWarning: Columns (4,5,6,7) have mixed types. Specify dtype option on import or set low_memory=False.\n",
      "  nodes = pd.read_csv(\"../../../MRN_dataset/nodes_biolink.csv\")\n"
     ]
    }
   ],
   "source": [
    "nodes = pd.read_csv(\"../../../MRN_dataset/nodes_biolink.csv\")\n",
    "nodes_dict = dict(zip(nodes.id, nodes.name))"
   ]
  },
  {
   "cell_type": "markdown",
   "id": "e5aa1029-c773-411c-a580-c64be5a18ead",
   "metadata": {},
   "source": [
    "#### Translate the dataframe and export it"
   ]
  },
  {
   "cell_type": "code",
   "execution_count": 65,
   "id": "874f762e-8b1b-46f8-9a79-17cc1fdf9e90",
   "metadata": {},
   "outputs": [
    {
     "data": {
      "text/html": [
       "<div>\n",
       "<style scoped>\n",
       "    .dataframe tbody tr th:only-of-type {\n",
       "        vertical-align: middle;\n",
       "    }\n",
       "\n",
       "    .dataframe tbody tr th {\n",
       "        vertical-align: top;\n",
       "    }\n",
       "\n",
       "    .dataframe thead th {\n",
       "        text-align: right;\n",
       "    }\n",
       "</style>\n",
       "<table border=\"1\" class=\"dataframe\">\n",
       "  <thead>\n",
       "    <tr style=\"text-align: right;\">\n",
       "      <th></th>\n",
       "      <th>h</th>\n",
       "      <th>top_pred</th>\n",
       "      <th>compound</th>\n",
       "      <th>top_pred_dis</th>\n",
       "      <th>algo</th>\n",
       "    </tr>\n",
       "  </thead>\n",
       "  <tbody>\n",
       "    <tr>\n",
       "      <th>0</th>\n",
       "      <td>CHEBI:135925</td>\n",
       "      <td>DOID:60080</td>\n",
       "      <td>lisdexamfetamine</td>\n",
       "      <td>Advanced hormone receptor-positive, HER2­ nega...</td>\n",
       "      <td>CBR</td>\n",
       "    </tr>\n",
       "    <tr>\n",
       "      <th>1</th>\n",
       "      <td>CHEBI:17439</td>\n",
       "      <td>MESH:D008106</td>\n",
       "      <td>cyanocob(III)alamin</td>\n",
       "      <td>Liver Cirrhosis, Experimental</td>\n",
       "      <td>CBR</td>\n",
       "    </tr>\n",
       "    <tr>\n",
       "      <th>2</th>\n",
       "      <td>CHEBI:31530</td>\n",
       "      <td>DOID:60164</td>\n",
       "      <td>edaravone</td>\n",
       "      <td>Pain relief</td>\n",
       "      <td>CBR</td>\n",
       "    </tr>\n",
       "    <tr>\n",
       "      <th>3</th>\n",
       "      <td>CHEBI:31854</td>\n",
       "      <td>DOID:9975</td>\n",
       "      <td>Milnacipran hydrochloride</td>\n",
       "      <td>cocaine dependence</td>\n",
       "      <td>CBR</td>\n",
       "    </tr>\n",
       "    <tr>\n",
       "      <th>4</th>\n",
       "      <td>CHEBI:3286</td>\n",
       "      <td>DOID:14330</td>\n",
       "      <td>cabergoline</td>\n",
       "      <td>Parkinson's disease</td>\n",
       "      <td>CBR</td>\n",
       "    </tr>\n",
       "    <tr>\n",
       "      <th>...</th>\n",
       "      <td>...</td>\n",
       "      <td>...</td>\n",
       "      <td>...</td>\n",
       "      <td>...</td>\n",
       "      <td>...</td>\n",
       "    </tr>\n",
       "    <tr>\n",
       "      <th>177</th>\n",
       "      <td>CHEBI:8708</td>\n",
       "      <td>DOID:6364</td>\n",
       "      <td>quetiapine fumarate</td>\n",
       "      <td>migraine</td>\n",
       "      <td>RotatE</td>\n",
       "    </tr>\n",
       "    <tr>\n",
       "      <th>178</th>\n",
       "      <td>CHEBI:9207</td>\n",
       "      <td>DOID:10763</td>\n",
       "      <td>sotalol hydrochloride</td>\n",
       "      <td>hypertension</td>\n",
       "      <td>RotatE</td>\n",
       "    </tr>\n",
       "    <tr>\n",
       "      <th>179</th>\n",
       "      <td>CHEBI:9711</td>\n",
       "      <td>DOID:0060001</td>\n",
       "      <td>triflupromazine</td>\n",
       "      <td>withdrawal disorder</td>\n",
       "      <td>RotatE</td>\n",
       "    </tr>\n",
       "    <tr>\n",
       "      <th>180</th>\n",
       "      <td>CHEBI:9725</td>\n",
       "      <td>DOID:9970</td>\n",
       "      <td>Trimeprazine</td>\n",
       "      <td>obesity</td>\n",
       "      <td>RotatE</td>\n",
       "    </tr>\n",
       "    <tr>\n",
       "      <th>181</th>\n",
       "      <td>IKEY:DYLUUSLLRIQKOE-UHFFFAOYSA-N</td>\n",
       "      <td>WD:Q53910821</td>\n",
       "      <td>Enasidenib</td>\n",
       "      <td>acute myeloid leukemia with myelodysplasia-rel...</td>\n",
       "      <td>RotatE</td>\n",
       "    </tr>\n",
       "  </tbody>\n",
       "</table>\n",
       "<p>182 rows × 5 columns</p>\n",
       "</div>"
      ],
      "text/plain": [
       "                                    h      top_pred  \\\n",
       "0                        CHEBI:135925    DOID:60080   \n",
       "1                         CHEBI:17439  MESH:D008106   \n",
       "2                         CHEBI:31530    DOID:60164   \n",
       "3                         CHEBI:31854     DOID:9975   \n",
       "4                          CHEBI:3286    DOID:14330   \n",
       "..                                ...           ...   \n",
       "177                        CHEBI:8708     DOID:6364   \n",
       "178                        CHEBI:9207    DOID:10763   \n",
       "179                        CHEBI:9711  DOID:0060001   \n",
       "180                        CHEBI:9725     DOID:9970   \n",
       "181  IKEY:DYLUUSLLRIQKOE-UHFFFAOYSA-N  WD:Q53910821   \n",
       "\n",
       "                      compound  \\\n",
       "0             lisdexamfetamine   \n",
       "1          cyanocob(III)alamin   \n",
       "2                    edaravone   \n",
       "3    Milnacipran hydrochloride   \n",
       "4                  cabergoline   \n",
       "..                         ...   \n",
       "177        quetiapine fumarate   \n",
       "178      sotalol hydrochloride   \n",
       "179            triflupromazine   \n",
       "180               Trimeprazine   \n",
       "181                 Enasidenib   \n",
       "\n",
       "                                          top_pred_dis    algo  \n",
       "0    Advanced hormone receptor-positive, HER2­ nega...     CBR  \n",
       "1                        Liver Cirrhosis, Experimental     CBR  \n",
       "2                                          Pain relief     CBR  \n",
       "3                                   cocaine dependence     CBR  \n",
       "4                                  Parkinson's disease     CBR  \n",
       "..                                                 ...     ...  \n",
       "177                                           migraine  RotatE  \n",
       "178                                       hypertension  RotatE  \n",
       "179                                withdrawal disorder  RotatE  \n",
       "180                                            obesity  RotatE  \n",
       "181  acute myeloid leukemia with myelodysplasia-rel...  RotatE  \n",
       "\n",
       "[182 rows x 5 columns]"
      ]
     },
     "execution_count": 65,
     "metadata": {},
     "output_type": "execute_result"
    }
   ],
   "source": [
    "combined_df2.assign(\n",
    "    compound=combined_df2.h.apply(lambda x: nodes_dict[x]),\n",
    "    top_pred_dis=combined_df2.top_pred.apply(lambda x: nodes_dict[x]),\n",
    ")[[\"h\", \"top_pred\", \"compound\", \"top_pred_dis\", \"algo\"]]"
   ]
  },
  {
   "cell_type": "code",
   "execution_count": 64,
   "id": "79a88de3-9123-4b54-bc1d-b4b5dbca19a7",
   "metadata": {},
   "outputs": [],
   "source": [
    "combined_df2.assign(\n",
    "    compound=combined_df2.h.apply(lambda x: nodes_dict[x]),\n",
    "    top_pred_dis=combined_df2.top_pred.apply(lambda x: nodes_dict[x]),\n",
    ")[[\"h\", \"top_pred\", \"compound\", \"top_pred_dis\", \"algo\"]].to_csv(\n",
    "    \"top_predicted_individual_algo_intersect.csv\", header=True, index=False\n",
    ")"
   ]
  },
  {
   "cell_type": "code",
   "execution_count": null,
   "id": "fd1e70b4-0ec2-45ad-8250-c18f81ab0aa2",
   "metadata": {},
   "outputs": [],
   "source": []
  }
 ],
 "metadata": {
  "kernelspec": {
   "display_name": "Python 3 (ipykernel)",
   "language": "python",
   "name": "python3"
  },
  "language_info": {
   "codemirror_mode": {
    "name": "ipython",
    "version": 3
   },
   "file_extension": ".py",
   "mimetype": "text/x-python",
   "name": "python",
   "nbconvert_exporter": "python",
   "pygments_lexer": "ipython3",
   "version": "3.10.12"
  }
 },
 "nbformat": 4,
 "nbformat_minor": 5
}
